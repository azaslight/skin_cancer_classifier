{
  "nbformat": 4,
  "nbformat_minor": 0,
  "metadata": {
    "colab": {
      "provenance": [],
      "authorship_tag": "ABX9TyPURskdNhBBZrMyMM+djODw",
      "include_colab_link": true
    },
    "kernelspec": {
      "name": "python3",
      "display_name": "Python 3"
    },
    "language_info": {
      "name": "python"
    }
  },
  "cells": [
    {
      "cell_type": "markdown",
      "metadata": {
        "id": "view-in-github",
        "colab_type": "text"
      },
      "source": [
        "<a href=\"https://colab.research.google.com/github/azaslight/skin_cancer_classifier/blob/main/telegram_bot.ipynb\" target=\"_parent\"><img src=\"https://colab.research.google.com/assets/colab-badge.svg\" alt=\"Open In Colab\"/></a>"
      ]
    },
    {
      "cell_type": "code",
      "source": [
        "!pip install python-telegram-bot --quiet\n",
        "!pip install tensorflow --quiet"
      ],
      "metadata": {
        "id": "vrRZgCLEDxYG"
      },
      "execution_count": 7,
      "outputs": []
    },
    {
      "cell_type": "code",
      "source": [
        "import logging\n",
        "import os\n",
        "import asyncio\n",
        "import numpy as np\n",
        "from PIL import Image\n",
        "from telegram import Update\n",
        "from telegram.ext import Application, CommandHandler, MessageHandler, CallbackContext, filters\n",
        "from tensorflow.keras.models import load_model\n",
        "\n",
        "# Вставьте ваш API Token сюда\n",
        "API_TOKEN = '7789503144:AAHJxUBty6Lta5pdsrM4SVvDV8Lt3bxQNCc'\n",
        "\n",
        "# Загрузка модели\n",
        "model = load_model('/content/drive/MyDrive/skin_cancer_classifier.keras')\n",
        "\n",
        "# Включаем логирование\n",
        "logging.basicConfig(format='%(asctime)s - %(name)s - %(levelname)s - %(message)s',\n",
        "                    level=logging.INFO)\n",
        "logger = logging.getLogger(__name__)\n",
        "\n",
        "# Команда /start\n",
        "async def start(update: Update, context: CallbackContext):\n",
        "    await update.message.reply_text('Привет! Отправь мне изображение, и я определю, есть ли признаки рака кожи.')\n",
        "\n",
        "# Обработка изображения\n",
        "async def handle_image(update: Update, context: CallbackContext):\n",
        "    try:\n",
        "        # Получаем последнее (самое большое) изображение из сообщения\n",
        "        file = await update.message.photo[-1].get_file()\n",
        "\n",
        "        # Логируем информацию о полученной фотографии\n",
        "        logger.info(f\"Получено изображение: {file.file_id}\")\n",
        "\n",
        "        # Скачиваем файл\n",
        "        file_path = 'temp_image.jpg'\n",
        "        await file.download_to_drive(file_path)\n",
        "\n",
        "        # Открытие изображения и подготовка данных\n",
        "        img = Image.open(file_path)\n",
        "        img = img.convert('RGB')  # Убедимся, что изображение в RGB формате\n",
        "        img = img.resize((64, 64))  # Изменение размера до нужного для модели\n",
        "        img_array = np.array(img) / 255.0  # Нормализация\n",
        "        img_array = np.expand_dims(img_array, axis=0)  # Добавляем размерность для батча\n",
        "\n",
        "        # Логируем информацию о процессе обработки\n",
        "        logger.info(f\"Изображение обработано, размер: {img_array.shape}\")\n",
        "\n",
        "        # Предсказание\n",
        "        prediction = model.predict(img_array)\n",
        "\n",
        "        # Логируем предсказание\n",
        "        logger.info(f\"Предсказание: {prediction[0][0]}\")\n",
        "\n",
        "        # Интерпретация результата\n",
        "        if prediction[0][0] >= 0.5:\n",
        "            await update.message.reply_text(\"Это изображение может быть опасным. Рекомендуется проконсультироваться с врачом.\")\n",
        "        else:\n",
        "            await update.message.reply_text(\"Этот снимок не показывает признаков рака кожи.\")\n",
        "\n",
        "        # Удаляем временный файл\n",
        "        os.remove(file_path)\n",
        "\n",
        "    except Exception as e:\n",
        "        # Логируем ошибку\n",
        "        logger.error(f\"Произошла ошибка при обработке изображения: {str(e)}\")\n",
        "        await update.message.reply_text(f\"Произошла ошибка при обработке изображения: {str(e)}\")\n",
        "\n",
        "# Основная функция\n",
        "async def main():\n",
        "    # Создаем объект приложения\n",
        "    application = Application.builder().token(API_TOKEN).build()\n",
        "\n",
        "    # Добавляем обработчики\n",
        "    application.add_handler(CommandHandler('start', start))\n",
        "    application.add_handler(MessageHandler(filters.PHOTO, handle_image))\n",
        "\n",
        "    # Запуск бота\n",
        "    await application.run_polling()\n",
        "\n",
        "# Для запуска в Google Colab\n",
        "if __name__ == '__main__':\n",
        "    loop = asyncio.get_event_loop()\n",
        "    loop.create_task(main())\n",
        "    loop.run_forever()\n"
      ],
      "metadata": {
        "colab": {
          "base_uri": "https://localhost:8080/"
        },
        "id": "YUq8Yo5DEDXW",
        "outputId": "a115c5c4-14c6-4379-dd50-0d7b8813ff5c"
      },
      "execution_count": null,
      "outputs": [
        {
          "output_type": "stream",
          "name": "stdout",
          "text": [
            "\u001b[1m1/1\u001b[0m \u001b[32m━━━━━━━━━━━━━━━━━━━━\u001b[0m\u001b[37m\u001b[0m \u001b[1m0s\u001b[0m 410ms/step\n"
          ]
        }
      ]
    }
  ]
}